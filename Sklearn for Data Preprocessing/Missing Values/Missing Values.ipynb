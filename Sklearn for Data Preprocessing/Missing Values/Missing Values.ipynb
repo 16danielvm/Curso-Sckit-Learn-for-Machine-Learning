{
 "metadata": {
  "language_info": {
   "codemirror_mode": {
    "name": "ipython",
    "version": 3
   },
   "file_extension": ".py",
   "mimetype": "text/x-python",
   "name": "python",
   "nbconvert_exporter": "python",
   "pygments_lexer": "ipython3",
   "version": "3.7.6-final"
  },
  "orig_nbformat": 2,
  "kernelspec": {
   "name": "python3",
   "display_name": "Python 3.7.6 64-bit",
   "metadata": {
    "interpreter": {
     "hash": "c0e511aeee49d7f530e3d7b46165066f8c04b3b2ae4913cc121f1f23a9402df4"
    }
   }
  }
 },
 "nbformat": 4,
 "nbformat_minor": 2,
 "cells": [
  {
   "source": [
    "# VALORES FALTANTES (missing values) "
   ],
   "cell_type": "markdown",
   "metadata": {}
  },
  {
   "cell_type": "code",
   "execution_count": 2,
   "metadata": {},
   "outputs": [],
   "source": [
    "#Importar las librerias\n",
    "import numpy as np\n",
    "import pandas as pd"
   ]
  },
  {
   "cell_type": "code",
   "execution_count": 3,
   "metadata": {},
   "outputs": [],
   "source": [
    "#Cargar Dataset \n",
    "Dataframe  = pd.read_csv('D:/Universidad/Cursos/Curso Sckit Learn for Machine Learning/Machine Learning for Data Preprocessing/train_kOBLwZA.csv')"
   ]
  },
  {
   "cell_type": "code",
   "execution_count": 4,
   "metadata": {},
   "outputs": [
    {
     "output_type": "stream",
     "name": "stdout",
     "text": [
      "<class 'pandas.core.frame.DataFrame'>\nRangeIndex: 8523 entries, 0 to 8522\nData columns (total 12 columns):\n #   Column                     Non-Null Count  Dtype  \n---  ------                     --------------  -----  \n 0   Item_Identifier            8523 non-null   object \n 1   Item_Weight                7060 non-null   float64\n 2   Item_Fat_Content           8523 non-null   object \n 3   Item_Visibility            8523 non-null   float64\n 4   Item_Type                  8523 non-null   object \n 5   Item_MRP                   8523 non-null   float64\n 6   Outlet_Identifier          8523 non-null   object \n 7   Outlet_Establishment_Year  8523 non-null   int64  \n 8   Outlet_Size                6113 non-null   object \n 9   Outlet_Location_Type       8523 non-null   object \n 10  Outlet_Type                8523 non-null   object \n 11  Item_Outlet_Sales          8523 non-null   float64\ndtypes: float64(4), int64(1), object(7)\nmemory usage: 799.2+ KB\n"
     ]
    }
   ],
   "source": [
    "#Informacion del Dataset Cargado\n",
    "Dataframe.info()"
   ]
  },
  {
   "cell_type": "code",
   "execution_count": 5,
   "metadata": {},
   "outputs": [
    {
     "output_type": "execute_result",
     "data": {
      "text/plain": [
       "  Item_Identifier  Item_Weight Item_Fat_Content  Item_Visibility  \\\n",
       "0           FDA15         9.30          Low Fat         0.016047   \n",
       "1           DRC01         5.92          Regular         0.019278   \n",
       "2           FDN15        17.50          Low Fat         0.016760   \n",
       "3           FDX07        19.20          Regular         0.000000   \n",
       "4           NCD19         8.93          Low Fat         0.000000   \n",
       "\n",
       "               Item_Type  Item_MRP Outlet_Identifier  \\\n",
       "0                  Dairy  249.8092            OUT049   \n",
       "1            Soft Drinks   48.2692            OUT018   \n",
       "2                   Meat  141.6180            OUT049   \n",
       "3  Fruits and Vegetables  182.0950            OUT010   \n",
       "4              Household   53.8614            OUT013   \n",
       "\n",
       "   Outlet_Establishment_Year Outlet_Size Outlet_Location_Type  \\\n",
       "0                       1999      Medium               Tier 1   \n",
       "1                       2009      Medium               Tier 3   \n",
       "2                       1999      Medium               Tier 1   \n",
       "3                       1998         NaN               Tier 3   \n",
       "4                       1987        High               Tier 3   \n",
       "\n",
       "         Outlet_Type  Item_Outlet_Sales  \n",
       "0  Supermarket Type1          3735.1380  \n",
       "1  Supermarket Type2           443.4228  \n",
       "2  Supermarket Type1          2097.2700  \n",
       "3      Grocery Store           732.3800  \n",
       "4  Supermarket Type1           994.7052  "
      ],
      "text/html": "<div>\n<style scoped>\n    .dataframe tbody tr th:only-of-type {\n        vertical-align: middle;\n    }\n\n    .dataframe tbody tr th {\n        vertical-align: top;\n    }\n\n    .dataframe thead th {\n        text-align: right;\n    }\n</style>\n<table border=\"1\" class=\"dataframe\">\n  <thead>\n    <tr style=\"text-align: right;\">\n      <th></th>\n      <th>Item_Identifier</th>\n      <th>Item_Weight</th>\n      <th>Item_Fat_Content</th>\n      <th>Item_Visibility</th>\n      <th>Item_Type</th>\n      <th>Item_MRP</th>\n      <th>Outlet_Identifier</th>\n      <th>Outlet_Establishment_Year</th>\n      <th>Outlet_Size</th>\n      <th>Outlet_Location_Type</th>\n      <th>Outlet_Type</th>\n      <th>Item_Outlet_Sales</th>\n    </tr>\n  </thead>\n  <tbody>\n    <tr>\n      <th>0</th>\n      <td>FDA15</td>\n      <td>9.30</td>\n      <td>Low Fat</td>\n      <td>0.016047</td>\n      <td>Dairy</td>\n      <td>249.8092</td>\n      <td>OUT049</td>\n      <td>1999</td>\n      <td>Medium</td>\n      <td>Tier 1</td>\n      <td>Supermarket Type1</td>\n      <td>3735.1380</td>\n    </tr>\n    <tr>\n      <th>1</th>\n      <td>DRC01</td>\n      <td>5.92</td>\n      <td>Regular</td>\n      <td>0.019278</td>\n      <td>Soft Drinks</td>\n      <td>48.2692</td>\n      <td>OUT018</td>\n      <td>2009</td>\n      <td>Medium</td>\n      <td>Tier 3</td>\n      <td>Supermarket Type2</td>\n      <td>443.4228</td>\n    </tr>\n    <tr>\n      <th>2</th>\n      <td>FDN15</td>\n      <td>17.50</td>\n      <td>Low Fat</td>\n      <td>0.016760</td>\n      <td>Meat</td>\n      <td>141.6180</td>\n      <td>OUT049</td>\n      <td>1999</td>\n      <td>Medium</td>\n      <td>Tier 1</td>\n      <td>Supermarket Type1</td>\n      <td>2097.2700</td>\n    </tr>\n    <tr>\n      <th>3</th>\n      <td>FDX07</td>\n      <td>19.20</td>\n      <td>Regular</td>\n      <td>0.000000</td>\n      <td>Fruits and Vegetables</td>\n      <td>182.0950</td>\n      <td>OUT010</td>\n      <td>1998</td>\n      <td>NaN</td>\n      <td>Tier 3</td>\n      <td>Grocery Store</td>\n      <td>732.3800</td>\n    </tr>\n    <tr>\n      <th>4</th>\n      <td>NCD19</td>\n      <td>8.93</td>\n      <td>Low Fat</td>\n      <td>0.000000</td>\n      <td>Household</td>\n      <td>53.8614</td>\n      <td>OUT013</td>\n      <td>1987</td>\n      <td>High</td>\n      <td>Tier 3</td>\n      <td>Supermarket Type1</td>\n      <td>994.7052</td>\n    </tr>\n  </tbody>\n</table>\n</div>"
     },
     "metadata": {},
     "execution_count": 5
    }
   ],
   "source": [
    "Dataframe.head()"
   ]
  },
  {
   "source": [
    "### VARIABLE CONTINUA"
   ],
   "cell_type": "markdown",
   "metadata": {}
  },
  {
   "cell_type": "code",
   "execution_count": 6,
   "metadata": {},
   "outputs": [
    {
     "output_type": "execute_result",
     "data": {
      "text/plain": [
       "Item_Identifier                 0\n",
       "Item_Weight                  1463\n",
       "Item_Fat_Content                0\n",
       "Item_Visibility                 0\n",
       "Item_Type                       0\n",
       "Item_MRP                        0\n",
       "Outlet_Identifier               0\n",
       "Outlet_Establishment_Year       0\n",
       "Outlet_Size                  2410\n",
       "Outlet_Location_Type            0\n",
       "Outlet_Type                     0\n",
       "Item_Outlet_Sales               0\n",
       "dtype: int64"
      ]
     },
     "metadata": {},
     "execution_count": 6
    }
   ],
   "source": [
    "#Missing Values por cada Columna\n",
    "Dataframe.isnull().sum()"
   ]
  },
  {
   "cell_type": "code",
   "execution_count": 7,
   "metadata": {},
   "outputs": [
    {
     "output_type": "execute_result",
     "data": {
      "text/plain": [
       "0     9.30\n",
       "1     5.92\n",
       "2    17.50\n",
       "3    19.20\n",
       "4     8.93\n",
       "Name: Item_Weight, dtype: float64"
      ]
     },
     "metadata": {},
     "execution_count": 7
    }
   ],
   "source": [
    "#Revisamos los valores de la columna 'Item Weight'\n",
    "Dataframe['Item_Weight'].head()"
   ]
  },
  {
   "cell_type": "code",
   "execution_count": 8,
   "metadata": {},
   "outputs": [
    {
     "output_type": "execute_result",
     "data": {
      "text/plain": [
       "12.857645184135976"
      ]
     },
     "metadata": {},
     "execution_count": 8
    }
   ],
   "source": [
    "#Utilizaremos su promedio\n",
    "Dataframe['Item_Weight'].mean()"
   ]
  },
  {
   "cell_type": "code",
   "execution_count": 9,
   "metadata": {},
   "outputs": [],
   "source": [
    "#Importamos SimpleImputer para reemplazar los datos nulos(nan) por el promedio(nan) de todos los datos\n",
    "from sklearn.impute import SimpleImputer\n",
    "imputer = SimpleImputer(missing_values = np.nan, strategy='mean')"
   ]
  },
  {
   "cell_type": "code",
   "execution_count": 10,
   "metadata": {},
   "outputs": [],
   "source": [
    "#Rellenamos los valores nan por el promedio de los demas valores de la columna\n",
    "imputer = imputer.fit(Dataframe.iloc[:,1:2])\n",
    "Dataframe.loc[:,1:2] = imputer.transform(Dataframe.iloc[:,1:2])"
   ]
  },
  {
   "cell_type": "code",
   "execution_count": 11,
   "metadata": {},
   "outputs": [
    {
     "output_type": "execute_result",
     "data": {
      "text/plain": [
       "0"
      ]
     },
     "metadata": {},
     "execution_count": 11
    }
   ],
   "source": [
    "#Rectificamos que no hayan valores nulos en la columna 'Item_Weight'\n",
    "Dataframe['Item_Weight'].isnull().sum()"
   ]
  },
  {
   "source": [
    "### VARIABLE CATEGORICA"
   ],
   "cell_type": "markdown",
   "metadata": {}
  },
  {
   "cell_type": "code",
   "execution_count": 12,
   "metadata": {},
   "outputs": [
    {
     "output_type": "execute_result",
     "data": {
      "text/plain": [
       "0     Medium\n",
       "1     Medium\n",
       "2     Medium\n",
       "3        NaN\n",
       "4       High\n",
       "5     Medium\n",
       "6       High\n",
       "7     Medium\n",
       "8        NaN\n",
       "9        NaN\n",
       "10    Medium\n",
       "11     Small\n",
       "12    Medium\n",
       "13     Small\n",
       "14      High\n",
       "Name: Outlet_Size, dtype: object"
      ]
     },
     "metadata": {},
     "execution_count": 12
    }
   ],
   "source": [
    "#Visualizamos los 15 primeros datos de la columna 'Outlet_Size'\n",
    "Dataframe['Outlet_Size'].head(15)"
   ]
  },
  {
   "cell_type": "code",
   "execution_count": 13,
   "metadata": {},
   "outputs": [
    {
     "output_type": "execute_result",
     "data": {
      "text/plain": [
       "2410"
      ]
     },
     "metadata": {},
     "execution_count": 13
    }
   ],
   "source": [
    "#Observamos cuantos valores nulos tiene la columna 'Outlet'\n",
    "Dataframe['Outlet_Size'].isnull().sum()"
   ]
  },
  {
   "cell_type": "code",
   "execution_count": 14,
   "metadata": {},
   "outputs": [
    {
     "output_type": "execute_result",
     "data": {
      "text/plain": [
       "array(['Supermarket Type1', 'Supermarket Type2', 'Grocery Store',\n",
       "       'Supermarket Type3'], dtype=object)"
      ]
     },
     "metadata": {},
     "execution_count": 14
    }
   ],
   "source": [
    "#Muestra los unicos valores que tiene la columna 'Outlet_Type'\n",
    "Dataframe['Outlet_Type'].unique()"
   ]
  },
  {
   "cell_type": "code",
   "execution_count": 15,
   "metadata": {},
   "outputs": [
    {
     "output_type": "execute_result",
     "data": {
      "text/plain": [
       "array(['Medium', nan, 'High', 'Small'], dtype=object)"
      ]
     },
     "metadata": {},
     "execution_count": 15
    }
   ],
   "source": [
    "#Muestra los unicos valores que tiene la columna 'Outlet_Size'\n",
    "Dataframe['Outlet_Size'].unique()"
   ]
  },
  {
   "cell_type": "code",
   "execution_count": 16,
   "metadata": {},
   "outputs": [
    {
     "output_type": "execute_result",
     "data": {
      "text/plain": [
       "array(['Tier 1', 'Tier 3', 'Tier 2'], dtype=object)"
      ]
     },
     "metadata": {},
     "execution_count": 16
    }
   ],
   "source": [
    "#Muestra los unicos valores que tiene la columna 'Outlet_Location_Type'\n",
    "Dataframe['Outlet_Location_Type'].unique()"
   ]
  },
  {
   "cell_type": "code",
   "execution_count": 17,
   "metadata": {},
   "outputs": [],
   "source": [
    "#Para poder observar la moda, los valores y su cantidad reemplazamos los valores nulos por 'Other'\n",
    "Dataframe['Outlet_Size'].fillna('Other', inplace=True)"
   ]
  },
  {
   "cell_type": "code",
   "execution_count": 18,
   "metadata": {},
   "outputs": [
    {
     "output_type": "execute_result",
     "data": {
      "text/plain": [
       "Outlet_Type        Outlet_Location_Type\n",
       "Grocery Store      Tier 1                            Small\n",
       "                   Tier 3                            Other\n",
       "Supermarket Type1  Tier 1                  [Medium, Small]\n",
       "                   Tier 2                   [Other, Small]\n",
       "                   Tier 3                             High\n",
       "Supermarket Type2  Tier 3                           Medium\n",
       "Supermarket Type3  Tier 3                           Medium\n",
       "Name: Outlet_Size, dtype: object"
      ]
     },
     "metadata": {},
     "execution_count": 18
    }
   ],
   "source": [
    "#Observamos los valores de la variable 'Outle_Size' segun 'Outlet_Type' y 'Outlet_Location_Type'\n",
    "Dataframe.groupby(['Outlet_Type','Outlet_Location_Type'])['Outlet_Size'].agg(pd.Series.unique)"
   ]
  },
  {
   "cell_type": "code",
   "execution_count": 19,
   "metadata": {},
   "outputs": [
    {
     "output_type": "execute_result",
     "data": {
      "text/plain": [
       "Outlet_Type        Outlet_Location_Type\n",
       "Grocery Store      Tier 1                            Small\n",
       "                   Tier 3                            Other\n",
       "Supermarket Type1  Tier 1                  [Medium, Small]\n",
       "                   Tier 2                            Other\n",
       "                   Tier 3                             High\n",
       "Supermarket Type2  Tier 3                           Medium\n",
       "Supermarket Type3  Tier 3                           Medium\n",
       "Name: Outlet_Size, dtype: object"
      ]
     },
     "metadata": {},
     "execution_count": 19
    }
   ],
   "source": [
    "#Observamos que valor es mas fercuente en la variable 'Outle_Size' segun 'Outlet_Type' y 'Outlet_Location_Type'\n",
    "Dataframe.groupby(['Outlet_Type','Outlet_Location_Type'])['Outlet_Size'].agg(pd.Series.mode)"
   ]
  },
  {
   "cell_type": "code",
   "execution_count": 20,
   "metadata": {},
   "outputs": [
    {
     "output_type": "execute_result",
     "data": {
      "text/plain": [
       "Outlet_Type        Outlet_Location_Type\n",
       "Grocery Store      Tier 1                          528\n",
       "                   Tier 3                          555\n",
       "Supermarket Type1  Tier 1                   [930, 930]\n",
       "                   Tier 2                  [1855, 930]\n",
       "                   Tier 3                          932\n",
       "Supermarket Type2  Tier 3                          928\n",
       "Supermarket Type3  Tier 3                          935\n",
       "Name: Outlet_Size, dtype: object"
      ]
     },
     "metadata": {},
     "execution_count": 20
    }
   ],
   "source": [
    "#Observamos la cantidad de valores en la variables 'Outle_Size' segun 'Outlet_Type' y 'Outlet_Location_Type'\n",
    "Dataframe.groupby(['Outlet_Type','Outlet_Location_Type'])['Outlet_Size'].agg(pd.Series.value_counts)"
   ]
  },
  {
   "cell_type": "code",
   "execution_count": 112,
   "metadata": {},
   "outputs": [],
   "source": [
    "#Cambiamos de nuevo el dato 'Other' por NaN \n",
    "Dataframe['Outlet_Size'].replace('Other', np.nan , inplace= True)"
   ]
  },
  {
   "cell_type": "code",
   "execution_count": 177,
   "metadata": {},
   "outputs": [],
   "source": [
    "#Importamos SimpleImputer para reemplazar los datos nulos(nan) por el valor mas frecuente(nan) de toda la columna\n",
    "imputer2 = SimpleImputer(missing_values = np.nan, strategy='most_frequent')"
   ]
  },
  {
   "cell_type": "code",
   "execution_count": 178,
   "metadata": {},
   "outputs": [],
   "source": [
    "#Rellenamos los valores nan por el valor mas frecuente de toda la columna \n",
    "imputer2 = imputer2.fit(Dataframe.iloc[:,8:9])\n",
    "Dataframe.loc[:,8:9] = imputer2.transform(Dataframe.iloc[:,8:9])"
   ]
  },
  {
   "cell_type": "code",
   "execution_count": 179,
   "metadata": {},
   "outputs": [
    {
     "output_type": "execute_result",
     "data": {
      "text/plain": [
       "0"
      ]
     },
     "metadata": {},
     "execution_count": 179
    }
   ],
   "source": [
    "#Rectificamos si aun existen valores nulos en la columna 'Outlet_Size'\n",
    "Dataframe['Outlet_Size'].isnull().sum()"
   ]
  },
  {
   "cell_type": "code",
   "execution_count": 181,
   "metadata": {},
   "outputs": [
    {
     "output_type": "stream",
     "name": "stdout",
     "text": [
      "<class 'pandas.core.frame.DataFrame'>\nRangeIndex: 8523 entries, 0 to 8522\nData columns (total 12 columns):\n #   Column                     Non-Null Count  Dtype  \n---  ------                     --------------  -----  \n 0   Item_Identifier            8523 non-null   object \n 1   Item_Weight                8523 non-null   float64\n 2   Item_Fat_Content           8523 non-null   object \n 3   Item_Visibility            8523 non-null   float64\n 4   Item_Type                  8523 non-null   object \n 5   Item_MRP                   8523 non-null   float64\n 6   Outlet_Identifier          8523 non-null   object \n 7   Outlet_Establishment_Year  8523 non-null   int64  \n 8   Outlet_Size                8523 non-null   object \n 9   Outlet_Location_Type       8523 non-null   object \n 10  Outlet_Type                8523 non-null   object \n 11  Item_Outlet_Sales          8523 non-null   float64\ndtypes: float64(4), int64(1), object(7)\nmemory usage: 799.2+ KB\n"
     ]
    }
   ],
   "source": [
    "#Podemos ver que no existe valores nulos (missing values) en ninguna columna del dataframe\n",
    "Dataframe.info()"
   ]
  },
  {
   "cell_type": "code",
   "execution_count": null,
   "metadata": {},
   "outputs": [],
   "source": []
  }
 ]
}