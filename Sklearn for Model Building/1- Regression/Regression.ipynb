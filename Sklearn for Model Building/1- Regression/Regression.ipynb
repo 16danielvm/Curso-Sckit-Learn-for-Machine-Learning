{
 "metadata": {
  "language_info": {
   "codemirror_mode": {
    "name": "ipython",
    "version": 3
   },
   "file_extension": ".py",
   "mimetype": "text/x-python",
   "name": "python",
   "nbconvert_exporter": "python",
   "pygments_lexer": "ipython3",
   "version": "3.7.6-final"
  },
  "orig_nbformat": 2,
  "kernelspec": {
   "name": "python3",
   "display_name": "Python 3.7.6 64-bit",
   "metadata": {
    "interpreter": {
     "hash": "c0e511aeee49d7f530e3d7b46165066f8c04b3b2ae4913cc121f1f23a9402df4"
    }
   }
  }
 },
 "nbformat": 4,
 "nbformat_minor": 2,
 "cells": [
  {
   "source": [
    "# IMPLEMENTACION REGRESION LINEAL"
   ],
   "cell_type": "markdown",
   "metadata": {}
  },
  {
   "source": [
    "### En este ejercicio se busca predecir la relacion entre 'El valor de ventas de un articulo' y las demas variables del dataset."
   ],
   "cell_type": "markdown",
   "metadata": {}
  },
  {
   "cell_type": "code",
   "execution_count": 1,
   "metadata": {},
   "outputs": [
    {
     "output_type": "stream",
     "name": "stderr",
     "text": [
      "C:\\Users\\tuto\\AppData\\Local\\Programs\\Python\\Python37\\lib\\importlib\\_bootstrap.py:219: RuntimeWarning: numpy.ufunc size changed, may indicate binary incompatibility. Expected 192 from C header, got 216 from PyObject\n",
      "  return f(*args, **kwds)\n",
      "C:\\Users\\tuto\\AppData\\Local\\Programs\\Python\\Python37\\lib\\importlib\\_bootstrap.py:219: RuntimeWarning: numpy.ufunc size changed, may indicate binary incompatibility. Expected 192 from C header, got 216 from PyObject\n",
      "  return f(*args, **kwds)\n"
     ]
    }
   ],
   "source": [
    "#Importando librerias\n",
    "import pandas as pd\n",
    "from sklearn.linear_model import LinearRegression\n",
    "from sklearn.metrics import mean_squared_error"
   ]
  },
  {
   "cell_type": "code",
   "execution_count": 2,
   "metadata": {},
   "outputs": [],
   "source": [
    "#Cargar el dataset de entrenamiento y el de pruebas\n",
    "train_data = pd.read_csv('train.csv')\n",
    "test_data = pd.read_csv('test.csv')"
   ]
  },
  {
   "cell_type": "code",
   "execution_count": 3,
   "metadata": {},
   "outputs": [
    {
     "output_type": "stream",
     "name": "stdout",
     "text": [
      "\nShape of training data : (1364, 36)\n\nShape of testing data : (341, 36)\n"
     ]
    }
   ],
   "source": [
    "#Vemos la forma del dataset\n",
    "print('\\nShape of training data :',train_data.shape)\n",
    "print('\\nShape of testing data :',test_data.shape)"
   ]
  },
  {
   "cell_type": "code",
   "execution_count": 4,
   "metadata": {},
   "outputs": [
    {
     "output_type": "execute_result",
     "data": {
      "text/plain": [
       "   Item_Weight  Item_Visibility  Item_MRP  Outlet_Establishment_Year  \\\n",
       "0     6.800000         0.037490   48.6034                       2004   \n",
       "1    15.600000         0.172597  114.8518                       1997   \n",
       "2    12.911575         0.054721  107.8254                       1985   \n",
       "3    11.800000         0.098312   81.4618                       1998   \n",
       "4    17.850000         0.046600  125.1388                       2004   \n",
       "\n",
       "   Item_Outlet_Sales  Item_Fat_Content_LF  Item_Fat_Content_Low Fat  \\\n",
       "0           291.6204                    0                         1   \n",
       "1          2163.1842                    0                         1   \n",
       "2          2387.5588                    0                         1   \n",
       "3           161.1236                    0                         1   \n",
       "4          1981.4208                    0                         0   \n",
       "\n",
       "   Item_Fat_Content_Regular  Item_Fat_Content_low fat  Item_Fat_Content_reg  \\\n",
       "0                         0                         0                     0   \n",
       "1                         0                         0                     0   \n",
       "2                         0                         0                     0   \n",
       "3                         0                         0                     0   \n",
       "4                         1                         0                     0   \n",
       "\n",
       "   ...  Outlet_Size_High  Outlet_Size_Medium  Outlet_Size_Small  \\\n",
       "0  ...                 0                   0                  1   \n",
       "1  ...                 0                   0                  1   \n",
       "2  ...                 0                   1                  0   \n",
       "3  ...                 0                   0                  0   \n",
       "4  ...                 0                   0                  1   \n",
       "\n",
       "   Outlet_Location_Type_Tier 1  Outlet_Location_Type_Tier 2  \\\n",
       "0                            0                            1   \n",
       "1                            1                            0   \n",
       "2                            0                            0   \n",
       "3                            0                            0   \n",
       "4                            0                            1   \n",
       "\n",
       "   Outlet_Location_Type_Tier 3  Outlet_Type_Grocery Store  \\\n",
       "0                            0                          0   \n",
       "1                            0                          0   \n",
       "2                            1                          0   \n",
       "3                            1                          1   \n",
       "4                            0                          0   \n",
       "\n",
       "   Outlet_Type_Supermarket Type1  Outlet_Type_Supermarket Type2  \\\n",
       "0                              1                              0   \n",
       "1                              1                              0   \n",
       "2                              0                              0   \n",
       "3                              0                              0   \n",
       "4                              1                              0   \n",
       "\n",
       "   Outlet_Type_Supermarket Type3  \n",
       "0                              0  \n",
       "1                              0  \n",
       "2                              1  \n",
       "3                              0  \n",
       "4                              0  \n",
       "\n",
       "[5 rows x 36 columns]"
      ],
      "text/html": "<div>\n<style scoped>\n    .dataframe tbody tr th:only-of-type {\n        vertical-align: middle;\n    }\n\n    .dataframe tbody tr th {\n        vertical-align: top;\n    }\n\n    .dataframe thead th {\n        text-align: right;\n    }\n</style>\n<table border=\"1\" class=\"dataframe\">\n  <thead>\n    <tr style=\"text-align: right;\">\n      <th></th>\n      <th>Item_Weight</th>\n      <th>Item_Visibility</th>\n      <th>Item_MRP</th>\n      <th>Outlet_Establishment_Year</th>\n      <th>Item_Outlet_Sales</th>\n      <th>Item_Fat_Content_LF</th>\n      <th>Item_Fat_Content_Low Fat</th>\n      <th>Item_Fat_Content_Regular</th>\n      <th>Item_Fat_Content_low fat</th>\n      <th>Item_Fat_Content_reg</th>\n      <th>...</th>\n      <th>Outlet_Size_High</th>\n      <th>Outlet_Size_Medium</th>\n      <th>Outlet_Size_Small</th>\n      <th>Outlet_Location_Type_Tier 1</th>\n      <th>Outlet_Location_Type_Tier 2</th>\n      <th>Outlet_Location_Type_Tier 3</th>\n      <th>Outlet_Type_Grocery Store</th>\n      <th>Outlet_Type_Supermarket Type1</th>\n      <th>Outlet_Type_Supermarket Type2</th>\n      <th>Outlet_Type_Supermarket Type3</th>\n    </tr>\n  </thead>\n  <tbody>\n    <tr>\n      <th>0</th>\n      <td>6.800000</td>\n      <td>0.037490</td>\n      <td>48.6034</td>\n      <td>2004</td>\n      <td>291.6204</td>\n      <td>0</td>\n      <td>1</td>\n      <td>0</td>\n      <td>0</td>\n      <td>0</td>\n      <td>...</td>\n      <td>0</td>\n      <td>0</td>\n      <td>1</td>\n      <td>0</td>\n      <td>1</td>\n      <td>0</td>\n      <td>0</td>\n      <td>1</td>\n      <td>0</td>\n      <td>0</td>\n    </tr>\n    <tr>\n      <th>1</th>\n      <td>15.600000</td>\n      <td>0.172597</td>\n      <td>114.8518</td>\n      <td>1997</td>\n      <td>2163.1842</td>\n      <td>0</td>\n      <td>1</td>\n      <td>0</td>\n      <td>0</td>\n      <td>0</td>\n      <td>...</td>\n      <td>0</td>\n      <td>0</td>\n      <td>1</td>\n      <td>1</td>\n      <td>0</td>\n      <td>0</td>\n      <td>0</td>\n      <td>1</td>\n      <td>0</td>\n      <td>0</td>\n    </tr>\n    <tr>\n      <th>2</th>\n      <td>12.911575</td>\n      <td>0.054721</td>\n      <td>107.8254</td>\n      <td>1985</td>\n      <td>2387.5588</td>\n      <td>0</td>\n      <td>1</td>\n      <td>0</td>\n      <td>0</td>\n      <td>0</td>\n      <td>...</td>\n      <td>0</td>\n      <td>1</td>\n      <td>0</td>\n      <td>0</td>\n      <td>0</td>\n      <td>1</td>\n      <td>0</td>\n      <td>0</td>\n      <td>0</td>\n      <td>1</td>\n    </tr>\n    <tr>\n      <th>3</th>\n      <td>11.800000</td>\n      <td>0.098312</td>\n      <td>81.4618</td>\n      <td>1998</td>\n      <td>161.1236</td>\n      <td>0</td>\n      <td>1</td>\n      <td>0</td>\n      <td>0</td>\n      <td>0</td>\n      <td>...</td>\n      <td>0</td>\n      <td>0</td>\n      <td>0</td>\n      <td>0</td>\n      <td>0</td>\n      <td>1</td>\n      <td>1</td>\n      <td>0</td>\n      <td>0</td>\n      <td>0</td>\n    </tr>\n    <tr>\n      <th>4</th>\n      <td>17.850000</td>\n      <td>0.046600</td>\n      <td>125.1388</td>\n      <td>2004</td>\n      <td>1981.4208</td>\n      <td>0</td>\n      <td>0</td>\n      <td>1</td>\n      <td>0</td>\n      <td>0</td>\n      <td>...</td>\n      <td>0</td>\n      <td>0</td>\n      <td>1</td>\n      <td>0</td>\n      <td>1</td>\n      <td>0</td>\n      <td>0</td>\n      <td>1</td>\n      <td>0</td>\n      <td>0</td>\n    </tr>\n  </tbody>\n</table>\n<p>5 rows × 36 columns</p>\n</div>"
     },
     "metadata": {},
     "execution_count": 4
    }
   ],
   "source": [
    "#Observamos el dataset de entrenamiento\n",
    "train_data.head()"
   ]
  },
  {
   "cell_type": "code",
   "execution_count": 5,
   "metadata": {},
   "outputs": [
    {
     "output_type": "execute_result",
     "data": {
      "text/plain": [
       "   Item_Weight  Item_Visibility  Item_MRP  Outlet_Establishment_Year  \\\n",
       "0       18.100         0.022526   95.0094                       2007   \n",
       "1        6.615         0.093575  199.4426                       2002   \n",
       "2       11.850         0.050187  164.1526                       2002   \n",
       "3       13.500         0.159969  147.6102                       1999   \n",
       "4       14.000         0.029769  145.4786                       1999   \n",
       "\n",
       "   Item_Outlet_Sales  Item_Fat_Content_LF  Item_Fat_Content_Low Fat  \\\n",
       "0          1713.7692                    0                         1   \n",
       "1          3361.6242                    0                         1   \n",
       "2          3124.5994                    0                         0   \n",
       "3          1603.9122                    0                         0   \n",
       "4          1300.3074                    0                         0   \n",
       "\n",
       "   Item_Fat_Content_Regular  Item_Fat_Content_low fat  Item_Fat_Content_reg  \\\n",
       "0                         0                         0                     0   \n",
       "1                         0                         0                     0   \n",
       "2                         1                         0                     0   \n",
       "3                         1                         0                     0   \n",
       "4                         1                         0                     0   \n",
       "\n",
       "   ...  Outlet_Size_High  Outlet_Size_Medium  Outlet_Size_Small  \\\n",
       "0  ...                 0                   0                  0   \n",
       "1  ...                 0                   0                  0   \n",
       "2  ...                 0                   0                  0   \n",
       "3  ...                 0                   1                  0   \n",
       "4  ...                 0                   1                  0   \n",
       "\n",
       "   Outlet_Location_Type_Tier 1  Outlet_Location_Type_Tier 2  \\\n",
       "0                            0                            1   \n",
       "1                            0                            1   \n",
       "2                            0                            1   \n",
       "3                            1                            0   \n",
       "4                            1                            0   \n",
       "\n",
       "   Outlet_Location_Type_Tier 3  Outlet_Type_Grocery Store  \\\n",
       "0                            0                          0   \n",
       "1                            0                          0   \n",
       "2                            0                          0   \n",
       "3                            0                          0   \n",
       "4                            0                          0   \n",
       "\n",
       "   Outlet_Type_Supermarket Type1  Outlet_Type_Supermarket Type2  \\\n",
       "0                              1                              0   \n",
       "1                              1                              0   \n",
       "2                              1                              0   \n",
       "3                              1                              0   \n",
       "4                              1                              0   \n",
       "\n",
       "   Outlet_Type_Supermarket Type3  \n",
       "0                              0  \n",
       "1                              0  \n",
       "2                              0  \n",
       "3                              0  \n",
       "4                              0  \n",
       "\n",
       "[5 rows x 36 columns]"
      ],
      "text/html": "<div>\n<style scoped>\n    .dataframe tbody tr th:only-of-type {\n        vertical-align: middle;\n    }\n\n    .dataframe tbody tr th {\n        vertical-align: top;\n    }\n\n    .dataframe thead th {\n        text-align: right;\n    }\n</style>\n<table border=\"1\" class=\"dataframe\">\n  <thead>\n    <tr style=\"text-align: right;\">\n      <th></th>\n      <th>Item_Weight</th>\n      <th>Item_Visibility</th>\n      <th>Item_MRP</th>\n      <th>Outlet_Establishment_Year</th>\n      <th>Item_Outlet_Sales</th>\n      <th>Item_Fat_Content_LF</th>\n      <th>Item_Fat_Content_Low Fat</th>\n      <th>Item_Fat_Content_Regular</th>\n      <th>Item_Fat_Content_low fat</th>\n      <th>Item_Fat_Content_reg</th>\n      <th>...</th>\n      <th>Outlet_Size_High</th>\n      <th>Outlet_Size_Medium</th>\n      <th>Outlet_Size_Small</th>\n      <th>Outlet_Location_Type_Tier 1</th>\n      <th>Outlet_Location_Type_Tier 2</th>\n      <th>Outlet_Location_Type_Tier 3</th>\n      <th>Outlet_Type_Grocery Store</th>\n      <th>Outlet_Type_Supermarket Type1</th>\n      <th>Outlet_Type_Supermarket Type2</th>\n      <th>Outlet_Type_Supermarket Type3</th>\n    </tr>\n  </thead>\n  <tbody>\n    <tr>\n      <th>0</th>\n      <td>18.100</td>\n      <td>0.022526</td>\n      <td>95.0094</td>\n      <td>2007</td>\n      <td>1713.7692</td>\n      <td>0</td>\n      <td>1</td>\n      <td>0</td>\n      <td>0</td>\n      <td>0</td>\n      <td>...</td>\n      <td>0</td>\n      <td>0</td>\n      <td>0</td>\n      <td>0</td>\n      <td>1</td>\n      <td>0</td>\n      <td>0</td>\n      <td>1</td>\n      <td>0</td>\n      <td>0</td>\n    </tr>\n    <tr>\n      <th>1</th>\n      <td>6.615</td>\n      <td>0.093575</td>\n      <td>199.4426</td>\n      <td>2002</td>\n      <td>3361.6242</td>\n      <td>0</td>\n      <td>1</td>\n      <td>0</td>\n      <td>0</td>\n      <td>0</td>\n      <td>...</td>\n      <td>0</td>\n      <td>0</td>\n      <td>0</td>\n      <td>0</td>\n      <td>1</td>\n      <td>0</td>\n      <td>0</td>\n      <td>1</td>\n      <td>0</td>\n      <td>0</td>\n    </tr>\n    <tr>\n      <th>2</th>\n      <td>11.850</td>\n      <td>0.050187</td>\n      <td>164.1526</td>\n      <td>2002</td>\n      <td>3124.5994</td>\n      <td>0</td>\n      <td>0</td>\n      <td>1</td>\n      <td>0</td>\n      <td>0</td>\n      <td>...</td>\n      <td>0</td>\n      <td>0</td>\n      <td>0</td>\n      <td>0</td>\n      <td>1</td>\n      <td>0</td>\n      <td>0</td>\n      <td>1</td>\n      <td>0</td>\n      <td>0</td>\n    </tr>\n    <tr>\n      <th>3</th>\n      <td>13.500</td>\n      <td>0.159969</td>\n      <td>147.6102</td>\n      <td>1999</td>\n      <td>1603.9122</td>\n      <td>0</td>\n      <td>0</td>\n      <td>1</td>\n      <td>0</td>\n      <td>0</td>\n      <td>...</td>\n      <td>0</td>\n      <td>1</td>\n      <td>0</td>\n      <td>1</td>\n      <td>0</td>\n      <td>0</td>\n      <td>0</td>\n      <td>1</td>\n      <td>0</td>\n      <td>0</td>\n    </tr>\n    <tr>\n      <th>4</th>\n      <td>14.000</td>\n      <td>0.029769</td>\n      <td>145.4786</td>\n      <td>1999</td>\n      <td>1300.3074</td>\n      <td>0</td>\n      <td>0</td>\n      <td>1</td>\n      <td>0</td>\n      <td>0</td>\n      <td>...</td>\n      <td>0</td>\n      <td>1</td>\n      <td>0</td>\n      <td>1</td>\n      <td>0</td>\n      <td>0</td>\n      <td>0</td>\n      <td>1</td>\n      <td>0</td>\n      <td>0</td>\n    </tr>\n  </tbody>\n</table>\n<p>5 rows × 36 columns</p>\n</div>"
     },
     "metadata": {},
     "execution_count": 5
    }
   ],
   "source": [
    "#Observamos el dataset de prueba\n",
    "test_data.head()"
   ]
  },
  {
   "cell_type": "code",
   "execution_count": 6,
   "metadata": {},
   "outputs": [],
   "source": [
    "#Separamos la variable dependiente de las variables independientes de cada dataset\n",
    "train_x = train_data.drop(columns=['Item_Outlet_Sales'],axis=1)\n",
    "train_y = train_data['Item_Outlet_Sales']\n",
    "test_x = test_data.drop(columns=['Item_Outlet_Sales'],axis=1)\n",
    "test_y = test_data['Item_Outlet_Sales']"
   ]
  },
  {
   "cell_type": "code",
   "execution_count": 7,
   "metadata": {},
   "outputs": [],
   "source": [
    "#Creamos un objeto del modelo de regression lineal\n",
    "lr = LinearRegression()"
   ]
  },
  {
   "cell_type": "code",
   "execution_count": 8,
   "metadata": {},
   "outputs": [
    {
     "output_type": "execute_result",
     "data": {
      "text/plain": [
       "LinearRegression()"
      ]
     },
     "metadata": {},
     "execution_count": 8
    }
   ],
   "source": [
    "#Entrenamos el modelo de entrenamiento\n",
    "lr.fit(train_x,train_y)"
   ]
  },
  {
   "cell_type": "code",
   "execution_count": 9,
   "metadata": {},
   "outputs": [
    {
     "output_type": "stream",
     "name": "stdout",
     "text": [
      "Coeficientes del modelo : [-3.84197604e+00  9.83065945e+00  1.61711856e+01  6.09197622e+01\n -8.64161561e+01  1.23593376e+02  2.34714039e+02 -2.44597425e+02\n -2.72938329e+01 -8.09611456e+00 -3.01147840e+02  1.70727611e+02\n -5.40194744e+01  7.34248834e+01  1.70313375e+00 -5.07701615e+01\n  1.63553657e+02 -5.85286125e+01  1.04913492e+02 -6.01944874e+01\n  1.98948206e+02 -1.40959023e+02  1.19426257e+02  2.66382669e+01\n -1.85619792e+02  1.43925357e+03  2.16134663e+02  3.54723990e+01\n  3.54832996e+02 -5.54559635e+00 -3.49287400e+02 -1.39202954e+03\n -2.57982359e+02 -9.59016062e+02  2.60902796e+03]\nIntercepto del modelo : -121926.97473298325\n"
     ]
    }
   ],
   "source": [
    "#Mostramos los coeficientes y el intercepto del modelo\n",
    "print('Coeficientes del modelo :', lr.coef_)\n",
    "print('Intercepto del modelo :', lr.intercept_)"
   ]
  },
  {
   "cell_type": "code",
   "execution_count": 10,
   "metadata": {},
   "outputs": [],
   "source": [
    "#Predecimos del dataset de entrenamiento\n",
    "predict_train = lr.predict(train_x)"
   ]
  },
  {
   "cell_type": "code",
   "execution_count": 12,
   "metadata": {},
   "outputs": [
    {
     "output_type": "stream",
     "name": "stdout",
     "text": [
      "\nRMSE on train dataset :  1135.8159344155242\n"
     ]
    }
   ],
   "source": [
    "#Calculamos el RMSE \n",
    "rmse_train = mean_squared_error(train_y,predict_train)**0.5\n",
    "print('\\nRMSE sobre el dataset de entrenamiento : ', rmse_train)"
   ]
  },
  {
   "cell_type": "code",
   "execution_count": 13,
   "metadata": {},
   "outputs": [],
   "source": [
    "#Predecimos del dataset de pruebas\n",
    "predict_test = lr.predict(test_x)"
   ]
  },
  {
   "cell_type": "code",
   "execution_count": 14,
   "metadata": {},
   "outputs": [
    {
     "output_type": "stream",
     "name": "stdout",
     "text": [
      "\nRMSE sobre el dataset de pruebas :  1009.2517232209725\n"
     ]
    }
   ],
   "source": [
    "#Calculamos el RMSE \n",
    "rmse_test = mean_squared_error(test_y,predict_test)**0.5\n",
    "print('\\nRMSE sobre el dataset de pruebas : ', rmse_test)"
   ]
  },
  {
   "cell_type": "code",
   "execution_count": null,
   "metadata": {},
   "outputs": [],
   "source": []
  }
 ]
}